{
  "nbformat": 4,
  "nbformat_minor": 0,
  "metadata": {
    "colab": {
      "name": "01PDSBC.ipynb",
      "provenance": [],
      "authorship_tag": "ABX9TyN9d/XOQrL8MMA8Ysc+qRV8",
      "include_colab_link": true
    },
    "kernelspec": {
      "name": "python3",
      "display_name": "Python 3"
    }
  },
  "cells": [
    {
      "cell_type": "markdown",
      "metadata": {
        "id": "view-in-github",
        "colab_type": "text"
      },
      "source": [
        "<a href=\"https://colab.research.google.com/github/dariuszkugler/PythonDataScienceBootCamp/blob/master/01PDSBC.ipynb\" target=\"_parent\"><img src=\"https://colab.research.google.com/assets/colab-badge.svg\" alt=\"Open In Colab\"/></a>"
      ]
    },
    {
      "cell_type": "markdown",
      "metadata": {
        "id": "gwk-Toxk6OIo",
        "colab_type": "text"
      },
      "source": [
        "\n",
        "\n",
        "```\n",
        "### Pierwsze polecenie\n",
        "```\n",
        "\n"
      ]
    },
    {
      "cell_type": "code",
      "metadata": {
        "id": "ViFOTyll6FCd",
        "colab_type": "code",
        "colab": {
          "base_uri": "https://localhost:8080/",
          "height": 34
        },
        "outputId": "ca3c0951-a70c-4386-9180-03f12f5114ca"
      },
      "source": [
        "print('Witaj Świecie')"
      ],
      "execution_count": 1,
      "outputs": [
        {
          "output_type": "stream",
          "text": [
            "Witaj Świecie\n"
          ],
          "name": "stdout"
        }
      ]
    }
  ]
}